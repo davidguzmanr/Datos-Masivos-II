{
  "nbformat": 4,
  "nbformat_minor": 0,
  "metadata": {
    "kernelspec": {
      "display_name": "Python 3",
      "language": "python",
      "name": "python3"
    },
    "language_info": {
      "codemirror_mode": {
        "name": "ipython",
        "version": 3
      },
      "file_extension": ".py",
      "mimetype": "text/x-python",
      "name": "python",
      "nbconvert_exporter": "python",
      "pygments_lexer": "ipython3",
      "version": "3.7.3"
    },
    "colab": {
      "name": "Netflix.ipynb",
      "provenance": [],
      "include_colab_link": true
    }
  },
  "cells": [
    {
      "cell_type": "markdown",
      "metadata": {
        "id": "view-in-github",
        "colab_type": "text"
      },
      "source": [
        "<a href=\"https://colab.research.google.com/github/davidguzmanr/Datos-Masivos-II/blob/main/Netflix/Netflix.ipynb\" target=\"_parent\"><img src=\"https://colab.research.google.com/assets/colab-badge.svg\" alt=\"Open In Colab\"/></a>"
      ]
    },
    {
      "cell_type": "markdown",
      "metadata": {
        "id": "aQc-JrTDlwTF"
      },
      "source": [
        "# Netflix - Movie recommendation"
      ]
    },
    {
      "cell_type": "code",
      "metadata": {
        "id": "gjIGZUQrlwTI"
      },
      "source": [
        "import pandas as pd\n",
        "import matplotlib.pyplot as plt\n",
        "import seaborn as sns\n",
        "import numpy as np\n",
        "import re\n",
        "from tqdm import trange, tqdm\n",
        "from itertools import chain\n",
        "import warnings\n",
        "\n",
        "sns.set_style('darkgrid')\n",
        "warnings.filterwarnings('ignore')\n",
        "\n",
        "# Para graficar en LaTeX, a veces da problemas, en ese caso comentar estar dos líneas\n",
        "# plt.rc('text', usetex=True)\n",
        "# plt.rc('font', family='serif')"
      ],
      "execution_count": 1,
      "outputs": []
    },
    {
      "cell_type": "markdown",
      "metadata": {
        "id": "Sp8Wv05ul60G"
      },
      "source": [
        "## Descarga\n",
        "\n",
        "Lo más sencillo es usar la API de Kaggle."
      ]
    },
    {
      "cell_type": "code",
      "metadata": {
        "id": "B5lqNeQGl594"
      },
      "source": [
        "import os, json, nbformat, pandas as pd\n",
        "\n",
        "USER_ID = 'davidguzman'                          # REPLACE WITH YOUR OWN USER NAME\n",
        "USER_SECRET = '7a61331a4dc397bbe9da6c0130e5ab75' # REPLACE WITH YOUR OWN PRIVATE API TOKEN\n",
        "\n",
        "KAGGLE_CONFIG_DIR = os.path.join(os.path.expandvars('$HOME'), '.kaggle')\n",
        "os.makedirs(KAGGLE_CONFIG_DIR, exist_ok = True)\n",
        "\n",
        "with open(os.path.join(KAGGLE_CONFIG_DIR, 'kaggle.json'), 'w') as f:\n",
        "    json.dump({'username': USER_ID, 'key': USER_SECRET}, f)\n",
        "    \n",
        "!chmod 600 {KAGGLE_CONFIG_DIR}/kaggle.json"
      ],
      "execution_count": 2,
      "outputs": []
    },
    {
      "cell_type": "code",
      "metadata": {
        "colab": {
          "base_uri": "https://localhost:8080/"
        },
        "id": "KTpQo_4jmAYG",
        "outputId": "f19a294f-ae66-433f-cb32-f5468ed6788b"
      },
      "source": [
        "!kaggle datasets download -d netflix-inc/netflix-prize-data\n",
        "!unzip netflix-prize-data.zip"
      ],
      "execution_count": 5,
      "outputs": [
        {
          "output_type": "stream",
          "text": [
            "netflix-prize-data.zip: Skipping, found more recently modified local copy (use --force to force download)\n",
            "Archive:  netflix-prize-data.zip\n",
            "  inflating: README                  \n",
            "  inflating: combined_data_1.txt     \n",
            "  inflating: combined_data_2.txt     \n",
            "  inflating: combined_data_3.txt     \n",
            "  inflating: combined_data_4.txt     \n",
            "  inflating: movie_titles.csv        \n",
            "  inflating: probe.txt               \n",
            "  inflating: qualifying.txt          \n"
          ],
          "name": "stdout"
        }
      ]
    },
    {
      "cell_type": "markdown",
      "metadata": {
        "id": "zOX7KCAwlwTJ"
      },
      "source": [
        "## Exploración y preprocesamiento"
      ]
    },
    {
      "cell_type": "markdown",
      "metadata": {
        "id": "9YnJgAStlwTJ"
      },
      "source": [
        "La base de datos es [Netflix - Movie recommendation](https://www.kaggle.com/laowingkin/netflix-movie-recommendation/data?select=combined_data_1.txt), en total tiene más de 17K películas, 500K usuarios y 100M de calificaciones. Mi archivo (`combined_data_1.txt`) en particular tiene\n",
        "\n",
        "<br>\n",
        "<style type=\"text/css\">\n",
        ".tg  {border-collapse:collapse;border-color:#ccc;border-spacing:0;}\n",
        ".tg td{background-color:#fff;border-bottom-width:1px;border-color:#ccc;border-style:solid;border-top-width:1px;\n",
        "  border-width:0px;color:#333;font-family:Arial, sans-serif;font-size:14px;overflow:hidden;padding:10px 5px;\n",
        "  word-break:normal;}\n",
        ".tg th{background-color:#f0f0f0;border-bottom-width:1px;border-color:#ccc;border-style:solid;border-top-width:1px;\n",
        "  border-width:0px;color:#333;font-family:Arial, sans-serif;font-size:14px;font-weight:normal;overflow:hidden;\n",
        "  padding:10px 5px;word-break:normal;}\n",
        ".tg .tg-c3ow{border-color:inherit;text-align:center;vertical-align:top}\n",
        ".tg .tg-7btt{border-color:inherit;font-weight:bold;text-align:center;vertical-align:top}\n",
        ".tg .tg-abip{background-color:#f9f9f9;border-color:inherit;text-align:center;vertical-align:top}\n",
        "</style>\n",
        "<table class=\"tg\" style=\"margin-left:auto;margin-right:auto;\">\n",
        "<thead>\n",
        "  <tr>\n",
        "    <th class=\"tg-7btt\">combined_data1</th>\n",
        "    <th class=\"tg-7btt\">Estadísticas</th>\n",
        "  </tr>\n",
        "</thead>\n",
        "<tbody>\n",
        "  <tr>\n",
        "    <td class=\"tg-abip\"># usuarios</td>\n",
        "    <td class=\"tg-abip\">470,758</td>\n",
        "  </tr>\n",
        "  <tr>\n",
        "    <td class=\"tg-c3ow\"># películas</td>\n",
        "    <td class=\"tg-c3ow\">4,499</td>\n",
        "  </tr>\n",
        "  <tr>\n",
        "    <td class=\"tg-abip\"># de calificaciones</td>\n",
        "    <td class=\"tg-abip\">24,053,764</td>\n",
        "  </tr>\n",
        "</tbody>\n",
        "</table>\n",
        "<br>\n",
        "\n",
        "Los datos tienen el siguiente formato\n",
        "\n",
        "```cpp\n",
        "1:\n",
        "# User_ID, Rating, Date\n",
        "1488844,3,2005-09-06\n",
        "822109,5,2005-05-13\n",
        "885013,4,2005-10-19\n",
        "30878,4,2005-12-26\n",
        "823519,3,2004-05-03\n",
        "893988,3,2005-11-17\n",
        "...\n",
        "4499:\n",
        "# User_ID, Rating, Date\n",
        "66358,3,2004-12-20\n",
        "1916420,1,2004-06-27\n",
        "327122,2,2005-03-03\n",
        "769,3,2005-04-22\n",
        "1684516,3,2005-09-25\n",
        "567279,3,2004-07-12\n",
        "2116703,1,2004-08-19\n",
        "1722688,1,2005-02-08\n",
        "```"
      ]
    },
    {
      "cell_type": "code",
      "metadata": {
        "id": "AVnqJSUGlwTK"
      },
      "source": [
        "data_raw = pd.read_csv('/content/combined_data_1.txt', names=['user_id', 'rating', 'date'])"
      ],
      "execution_count": 7,
      "outputs": []
    },
    {
      "cell_type": "code",
      "metadata": {
        "id": "9ZalnmRMlwTK"
      },
      "source": [
        "movies = pd.read_csv('/content/movie_titles.csv', names=['movie_id', 'year', 'movie_title'], \n",
        "                     usecols=[0,1,2], encoding='latin-1')\n",
        "\n",
        "# Nos quedamos sólo con las películas que están en mi dataset\n",
        "movies = movies.loc[0:4499]\n",
        "\n",
        "ids_to_movies = dict(zip(movies['movie_id'], movies['movie_title']))\n",
        "movies_to_ids = dict(zip(movies['movie_title'], movies['movie_id']))"
      ],
      "execution_count": 8,
      "outputs": []
    },
    {
      "cell_type": "markdown",
      "metadata": {
        "id": "CkW9n4F7lwTK"
      },
      "source": [
        "Ahora pasemos los datos a un dataframe para manipularlos fácilmente."
      ]
    },
    {
      "cell_type": "code",
      "metadata": {
        "colab": {
          "base_uri": "https://localhost:8080/"
        },
        "id": "1s9DMZ3nlwTK",
        "outputId": "38ec2a88-526e-413c-cdf2-8c0fecfa5eea"
      },
      "source": [
        "movies_ids_index = data_raw[data_raw['rating'].isnull()].index.tolist()\n",
        "movies_ids = []\n",
        "\n",
        "for i in trange(len(movies_ids_index) - 1):\n",
        "    current_movie = movies_ids_index[i]\n",
        "    next_movie = movies_ids_index[i+1]\n",
        "    \n",
        "    movies_ids.append([i+1]*(next_movie - current_movie - 1))\n",
        "    \n",
        "# Agreamos el último id\n",
        "movies_ids.append([4499]*(len(data_raw) - movies_ids_index[-1] - 1))\n",
        "\n",
        "# 'Aplanamos' la lista de listas\n",
        "movies_ids = list(chain.from_iterable(movies_ids))"
      ],
      "execution_count": 9,
      "outputs": [
        {
          "output_type": "stream",
          "text": [
            "100%|██████████| 4498/4498 [00:00<00:00, 14031.97it/s]\n"
          ],
          "name": "stderr"
        }
      ]
    },
    {
      "cell_type": "markdown",
      "metadata": {
        "id": "vXWQhQzclwTL"
      },
      "source": [
        "Creamos nuestro dataframe limpio"
      ]
    },
    {
      "cell_type": "code",
      "metadata": {
        "colab": {
          "base_uri": "https://localhost:8080/",
          "height": 204
        },
        "id": "0o8BAVOmlwTL",
        "outputId": "184c8c5f-cd39-4fd6-fb6f-f32ddce127e3"
      },
      "source": [
        "data = data_raw[~data_raw['rating'].isnull()]\n",
        "data['movie_id'] = movies_ids\n",
        "data['user_id'] = data['user_id'].apply(lambda x: int(x))\n",
        "data.head()"
      ],
      "execution_count": 10,
      "outputs": [
        {
          "output_type": "execute_result",
          "data": {
            "text/html": [
              "<div>\n",
              "<style scoped>\n",
              "    .dataframe tbody tr th:only-of-type {\n",
              "        vertical-align: middle;\n",
              "    }\n",
              "\n",
              "    .dataframe tbody tr th {\n",
              "        vertical-align: top;\n",
              "    }\n",
              "\n",
              "    .dataframe thead th {\n",
              "        text-align: right;\n",
              "    }\n",
              "</style>\n",
              "<table border=\"1\" class=\"dataframe\">\n",
              "  <thead>\n",
              "    <tr style=\"text-align: right;\">\n",
              "      <th></th>\n",
              "      <th>user_id</th>\n",
              "      <th>rating</th>\n",
              "      <th>date</th>\n",
              "      <th>movie_id</th>\n",
              "    </tr>\n",
              "  </thead>\n",
              "  <tbody>\n",
              "    <tr>\n",
              "      <th>1</th>\n",
              "      <td>1488844</td>\n",
              "      <td>3.0</td>\n",
              "      <td>2005-09-06</td>\n",
              "      <td>1</td>\n",
              "    </tr>\n",
              "    <tr>\n",
              "      <th>2</th>\n",
              "      <td>822109</td>\n",
              "      <td>5.0</td>\n",
              "      <td>2005-05-13</td>\n",
              "      <td>1</td>\n",
              "    </tr>\n",
              "    <tr>\n",
              "      <th>3</th>\n",
              "      <td>885013</td>\n",
              "      <td>4.0</td>\n",
              "      <td>2005-10-19</td>\n",
              "      <td>1</td>\n",
              "    </tr>\n",
              "    <tr>\n",
              "      <th>4</th>\n",
              "      <td>30878</td>\n",
              "      <td>4.0</td>\n",
              "      <td>2005-12-26</td>\n",
              "      <td>1</td>\n",
              "    </tr>\n",
              "    <tr>\n",
              "      <th>5</th>\n",
              "      <td>823519</td>\n",
              "      <td>3.0</td>\n",
              "      <td>2004-05-03</td>\n",
              "      <td>1</td>\n",
              "    </tr>\n",
              "  </tbody>\n",
              "</table>\n",
              "</div>"
            ],
            "text/plain": [
              "   user_id  rating        date  movie_id\n",
              "1  1488844     3.0  2005-09-06         1\n",
              "2   822109     5.0  2005-05-13         1\n",
              "3   885013     4.0  2005-10-19         1\n",
              "4    30878     4.0  2005-12-26         1\n",
              "5   823519     3.0  2004-05-03         1"
            ]
          },
          "metadata": {
            "tags": []
          },
          "execution_count": 10
        }
      ]
    },
    {
      "cell_type": "markdown",
      "metadata": {
        "id": "lO0O69hwlwTL"
      },
      "source": [
        "Borramos algunas variables que ya no se usarán porque ocupan bastante espacio."
      ]
    },
    {
      "cell_type": "code",
      "metadata": {
        "scrolled": true,
        "id": "RXLNNC8OlwTL"
      },
      "source": [
        "del data_raw, movies_ids "
      ],
      "execution_count": 11,
      "outputs": []
    },
    {
      "cell_type": "markdown",
      "metadata": {
        "id": "7iJ2gjyClwTM"
      },
      "source": [
        "## Visualizaciones"
      ]
    },
    {
      "cell_type": "code",
      "metadata": {
        "id": "VTIvxf_KlwTM"
      },
      "source": [
        "# df = data.groupby(['movie_id']).agg(['count', 'mean']).reset_index()\n",
        "# df = df.sort_values(by=[('rating', 'mean')], ascending=False)\n",
        "# df['movie_id'] = df['movie_id'].replace(ids_to_movies)\n",
        "# df.head(10)"
      ],
      "execution_count": 12,
      "outputs": []
    },
    {
      "cell_type": "code",
      "metadata": {
        "colab": {
          "base_uri": "https://localhost:8080/",
          "height": 396
        },
        "id": "HlJj6zmklwTM",
        "outputId": "b2633027-f0df-4943-eeca-44f8a0701860"
      },
      "source": [
        "df = data['movie_id'].value_counts().to_frame().reset_index()\n",
        "df.columns = ['movie_id', 'count']\n",
        "df['movie_id'] = df['movie_id'].replace(ids_to_movies)\n",
        "\n",
        "plt.figure(figsize=(10,6))\n",
        "sns.barplot(y='movie_id', x='count', data=df.head(10))\n",
        "\n",
        "plt.xlabel('Number of votes', size=16, fontweight='bold')\n",
        "plt.ylabel('Movie title', size=16, fontweight='bold')\n",
        "plt.xticks(size=12)\n",
        "plt.yticks(size=12)\n",
        "\n",
        "plt.show()"
      ],
      "execution_count": 19,
      "outputs": [
        {
          "output_type": "display_data",
          "data": {
            "image/png": "[encoded data removed]",
            "text/plain": [
              "<Figure size 720x432 with 1 Axes>"
            ]
          },
          "metadata": {
            "tags": [],
            "needs_background": "light"
          }
        }
      ]
    },
    {
      "cell_type": "code",
      "metadata": {
        "scrolled": false,
        "colab": {
          "base_uri": "https://localhost:8080/",
          "height": 406
        },
        "id": "b_hLjqAplwTM",
        "outputId": "0d0a89c8-a4e6-408a-8611-3904867908a0"
      },
      "source": [
        "df = data['rating'].value_counts(normalize=True).to_frame().reset_index()\n",
        "df.columns = ['rating', 'count']\n",
        "\n",
        "plt.figure(figsize=(10,6))\n",
        "sns.barplot(x='rating', y='count', data=df)\n",
        "\n",
        "plt.xlabel('Rating', size=16, labelpad=10, fontweight='bold')\n",
        "plt.ylabel('Percentage', size=16, labelpad=10, fontweight='bold')\n",
        "\n",
        "plt.xticks(size=14)\n",
        "plt.yticks(size=14)\n",
        "\n",
        "plt.show()"
      ],
      "execution_count": 20,
      "outputs": [
        {
          "output_type": "display_data",
          "data": {
            "image/png": "[encoded data removed]",
            "text/plain": [
              "<Figure size 720x432 with 1 Axes>"
            ]
          },
          "metadata": {
            "tags": [],
            "needs_background": "light"
          }
        }
      ]
    },
    {
      "cell_type": "code",
      "metadata": {
        "colab": {
          "base_uri": "https://localhost:8080/",
          "height": 414
        },
        "id": "mw3S6FX2lwTM",
        "outputId": "d9ca72a7-072d-432c-b8a8-716a69fa9b7a"
      },
      "source": [
        "df = data['date'].apply(lambda x: x[0:4]).value_counts().to_frame().reset_index()\n",
        "df.columns = ['year', 'count']\n",
        "df = df.sort_values(by='year')\n",
        "\n",
        "plt.figure(figsize=(10,6))\n",
        "sns.barplot(x='year', y='count', data=df)\n",
        "\n",
        "plt.xlabel('Year', size=16, labelpad=10, fontweight='bold')\n",
        "plt.ylabel('Number of votes', size=16, labelpad=10, fontweight='bold')\n",
        "\n",
        "plt.xticks(size=14)\n",
        "plt.yticks(size=14)\n",
        "\n",
        "plt.show()"
      ],
      "execution_count": 21,
      "outputs": [
        {
          "output_type": "display_data",
          "data": {
            "image/png": "[encoded data removed]",
            "text/plain": [
              "<Figure size 720x432 with 1 Axes>"
            ]
          },
          "metadata": {
            "tags": [],
            "needs_background": "light"
          }
        }
      ]
    },
    {
      "cell_type": "code",
      "metadata": {
        "colab": {
          "base_uri": "https://localhost:8080/",
          "height": 443
        },
        "id": "gyMz8qXWlwTM",
        "outputId": "823923c2-5bf0-412d-d1d8-96dd56f18fee"
      },
      "source": [
        "df = data['user_id'].value_counts().to_frame().reset_index()\n",
        "df.columns = ['user_id', 'count']\n",
        "df = df.sort_values(by='count', ascending=False)\n",
        "df['user_id'] = df['user_id'].apply(lambda x: str(x))\n",
        "\n",
        "plt.figure(figsize=(10,6))\n",
        "sns.barplot(x='user_id', y='count', data=df.head(10))\n",
        "\n",
        "plt.xlabel('User', size=16, labelpad=10, fontweight='bold')\n",
        "plt.ylabel('Count', size=16, labelpad=10, fontweight='bold')\n",
        "\n",
        "plt.xticks(size=14, rotation=45)\n",
        "plt.yticks(size=14)\n",
        "\n",
        "plt.show()"
      ],
      "execution_count": 22,
      "outputs": [
        {
          "output_type": "display_data",
          "data": {
            "image/png": "[encoded data removed]",
            "text/plain": [
              "<Figure size 720x432 with 1 Axes>"
            ]
          },
          "metadata": {
            "tags": [],
            "needs_background": "light"
          }
        }
      ]
    },
    {
      "cell_type": "markdown",
      "metadata": {
        "id": "tGnh_TH0lwTN"
      },
      "source": [
        "## Recomendador\n",
        "\n",
        "Por como están los datos lo más lógico es usar algún método de **filtrado colaborativo**. \n",
        "\n",
        "Particularmente usaré [surprise](http://surpriselib.com/), la cual es una librería para sistemas de recomendación que tiene varios algoritmos. Trataré con varios de ellos (los más rápidos), haré unas pruebas con cross-validation y me quedaré con el que tenga menor error para entrenarlo con todo el dataset. \n",
        "\n",
        "Al final, los benchmarks quedan (tomando 1,000,000 de muestras aleatorias del dataframe original):\n",
        "\n",
        "\n",
        "<style type=\"text/css\">\n",
        ".tg  {border-collapse:collapse;border-color:#ccc;border-spacing:0;}\n",
        ".tg td{background-color:#fff;border-bottom-width:1px;border-color:#ccc;border-style:solid;border-top-width:1px;\n",
        "  border-width:0px;color:#333;font-family:Arial, sans-serif;font-size:14px;overflow:hidden;padding:10px 5px;\n",
        "  word-break:normal;}\n",
        ".tg th{background-color:#f0f0f0;border-bottom-width:1px;border-color:#ccc;border-style:solid;border-top-width:1px;\n",
        "  border-width:0px;color:#333;font-family:Arial, sans-serif;font-size:14px;font-weight:normal;overflow:hidden;\n",
        "  padding:10px 5px;word-break:normal;}\n",
        ".tg .tg-baqh{text-align:center;vertical-align:top}\n",
        ".tg .tg-0vih{background-color:#f9f9f9;font-weight:bold;text-align:center;vertical-align:top}\n",
        ".tg .tg-amwm{font-weight:bold;text-align:center;vertical-align:top}\n",
        ".tg .tg-dzk6{background-color:#f9f9f9;text-align:center;vertical-align:top}\n",
        "</style>\n",
        "<table class=\"tg\" style=\"margin-left:auto;margin-right:auto;\">\n",
        "<thead>\n",
        "  <tr>\n",
        "    <th class=\"tg-baqh\"></th>\n",
        "    <th class=\"tg-amwm\">Mean RMSE</th>\n",
        "    <th class=\"tg-amwm\">Mean MAE</th>\n",
        "    <th class=\"tg-amwm\">Time</th>\n",
        "  </tr>\n",
        "</thead>\n",
        "<tbody>\n",
        "  <tr>\n",
        "    <td class=\"tg-0vih\">SVD</td>\n",
        "    <td class=\"tg-dzk6\"><span style=\"font-weight:400;font-style:normal\">1.0023</span></td>\n",
        "    <td class=\"tg-dzk6\"><span style=\"font-weight:400;font-style:normal\">0.7976</span></td>\n",
        "    <td class=\"tg-dzk6\"><span style=\"font-weight:400;font-style:normal\">2min 44s</span></td>\n",
        "  </tr>\n",
        "  <tr>\n",
        "    <td class=\"tg-amwm\">NMF</td>\n",
        "    <td class=\"tg-baqh\">1.1595</td>\n",
        "    <td class=\"tg-baqh\">0.9187</td>\n",
        "    <td class=\"tg-baqh\">3min 59s</td>\n",
        "  </tr>\n",
        "  <tr>\n",
        "    <td class=\"tg-0vih\">SlopeOne</td>\n",
        "    <td class=\"tg-dzk6\">1.1227</td>\n",
        "    <td class=\"tg-dzk6\">0.8733</td>\n",
        "    <td class=\"tg-dzk6\">33.9 s</td>\n",
        "  </tr>\n",
        "  <tr>\n",
        "    <td class=\"tg-amwm\">CoClustering</td>\n",
        "    <td class=\"tg-baqh\">1.1038</td>\n",
        "    <td class=\"tg-baqh\">0.8602</td>\n",
        "    <td class=\"tg-baqh\">2min 49s</td>\n",
        "  </tr>\n",
        "</tbody>\n",
        "</table>\n",
        "\n",
        "De modo que SVD parece ser la mejor opción."
      ]
    },
    {
      "cell_type": "code",
      "metadata": {
        "colab": {
          "base_uri": "https://localhost:8080/"
        },
        "id": "w_8cQNXTlwTN",
        "outputId": "5026ab7e-1e1a-4998-eb9e-6b27720bd5c9"
      },
      "source": [
        "!pip install scikit-surprise"
      ],
      "execution_count": 24,
      "outputs": [
        {
          "output_type": "stream",
          "text": [
            "Requirement already satisfied: scikit-surprise in /usr/local/lib/python3.6/dist-packages (1.1.1)\n",
            "Requirement already satisfied: numpy>=1.11.2 in /usr/local/lib/python3.6/dist-packages (from scikit-surprise) (1.19.5)\n",
            "Requirement already satisfied: joblib>=0.11 in /usr/local/lib/python3.6/dist-packages (from scikit-surprise) (1.0.0)\n",
            "Requirement already satisfied: six>=1.10.0 in /usr/local/lib/python3.6/dist-packages (from scikit-surprise) (1.15.0)\n",
            "Requirement already satisfied: scipy>=1.0.0 in /usr/local/lib/python3.6/dist-packages (from scikit-surprise) (1.4.1)\n"
          ],
          "name": "stdout"
        }
      ]
    },
    {
      "cell_type": "code",
      "metadata": {
        "id": "LGc0ypp7lwTN"
      },
      "source": [
        "from surprise import Reader, Dataset\n",
        "from surprise import SVD, NMF, SlopeOne, KNNWithMeans, CoClustering\n",
        "from surprise.model_selection import cross_validate\n",
        "from scipy.sparse import csr_matrix\n",
        "from pandas.api.types import CategoricalDtype\n",
        "from joblib import load, dump"
      ],
      "execution_count": 25,
      "outputs": []
    },
    {
      "cell_type": "markdown",
      "metadata": {
        "id": "Za5uzPJRlwTO"
      },
      "source": [
        "Ahora entrenemos el recomendador con todos los datos:"
      ]
    },
    {
      "cell_type": "code",
      "metadata": {
        "colab": {
          "base_uri": "https://localhost:8080/"
        },
        "id": "BfB4GKEYlwTO",
        "outputId": "d2371af8-63c8-4322-b4e2-a1fa79c481f1"
      },
      "source": [
        "reader = Reader(rating_scale=(1,5))\n",
        "\n",
        "# Dataframe containing 3 columns: user ids, item ids, and ratings, in that order.\n",
        "data_recommender = Dataset.load_from_df(data[['user_id', 'movie_id', 'rating']], reader=reader)\n",
        "trainset = data_recommender.build_full_trainset()\n",
        "\n",
        "# RAM goes brrrr, it barely fits\n",
        "svd = SVD(random_state=42)\n",
        "%time svd.fit(trainset)"
      ],
      "execution_count": 26,
      "outputs": [
        {
          "output_type": "stream",
          "text": [
            "CPU times: user 26min 19s, sys: 686 ms, total: 26min 20s\n",
            "Wall time: 26min 24s\n"
          ],
          "name": "stdout"
        },
        {
          "output_type": "execute_result",
          "data": {
            "text/plain": [
              "<surprise.prediction_algorithms.matrix_factorization.SVD at 0x7fea37c220b8>"
            ]
          },
          "metadata": {
            "tags": []
          },
          "execution_count": 26
        }
      ]
    },
    {
      "cell_type": "code",
      "metadata": {
        "id": "BqUr8fdalwTP"
      },
      "source": [
        "def recommend(model, user_id):\n",
        "    \"\"\"\n",
        "    Parameters\n",
        "    model: \n",
        "        Modelo entrenado de surprise.prediction_algorithms a usar para la predicción.\n",
        "    user_id: int\n",
        "        id del usuario.\n",
        "    \"\"\"\n",
        "    # Le recomendaremos las cosas que más le gustaron, es decir, que lo calificó con 5\n",
        "    df_user = data[(data['user_id'] == user_id) & (data['rating'] == 5)]    \n",
        "    df_user['movie_title'] = df_user['movie_id'].replace(ids_to_movies)\n",
        "    df_user = df_user[['movie_id', 'movie_title']]\n",
        "    already_seen = df_user['movie_id'].tolist()\n",
        "    \n",
        "    df_recommendations = movies.copy()\n",
        "    scores = df_recommendations['movie_id'].apply(lambda x: model.predict(uid=user_id, iid=x).est)    \n",
        "    df_recommendations['score'] = scores\n",
        "    df_recommendations = df_recommendations[~df_recommendations['movie_id'].isin(already_seen)]\n",
        "    df_recommendations.sort_values(by='score', ascending=False, inplace=True)\n",
        "    df_recommendations = df_recommendations[['movie_title', 'year', 'score']].reset_index(drop=True)\n",
        "    \n",
        "    print('Porque te gustó: {} \\n'.format(df_user['movie_title'].tolist()))\n",
        "    print('Te recomendamos: ')\n",
        "    display(df_recommendations.head(10))"
      ],
      "execution_count": 31,
      "outputs": []
    },
    {
      "cell_type": "code",
      "metadata": {
        "id": "ZNahEuWZlwTP"
      },
      "source": [
        "unique_users = data['user_id'].unique().tolist()"
      ],
      "execution_count": 32,
      "outputs": []
    },
    {
      "cell_type": "markdown",
      "metadata": {
        "id": "UiPC13zZwwkK"
      },
      "source": [
        "En el ejemplo de abajo se ve que el usuario ve únicamente series y las recomendaciones son igualmente series."
      ]
    },
    {
      "cell_type": "code",
      "metadata": {
        "colab": {
          "base_uri": "https://localhost:8080/",
          "height": 413
        },
        "id": "gFYMbXIblwTP",
        "outputId": "7036e6fc-6db6-451d-9647-298fe4e90c14"
      },
      "source": [
        "nice_examples = [982532, 2003078, 2241297, 2090830]\n",
        "\n",
        "recommend(svd, 982532)"
      ],
      "execution_count": 37,
      "outputs": [
        {
          "output_type": "stream",
          "text": [
            "Porque te gustó: ['Sex and the City: Season 4', 'Friends: Season 2', 'The Best of Friends: Season 1', 'Friends: Season 6', 'The Best of Friends: Season 2'] \n",
            "\n",
            "Te recomendamos: \n"
          ],
          "name": "stdout"
        },
        {
          "output_type": "display_data",
          "data": {
            "text/html": [
              "<div>\n",
              "<style scoped>\n",
              "    .dataframe tbody tr th:only-of-type {\n",
              "        vertical-align: middle;\n",
              "    }\n",
              "\n",
              "    .dataframe tbody tr th {\n",
              "        vertical-align: top;\n",
              "    }\n",
              "\n",
              "    .dataframe thead th {\n",
              "        text-align: right;\n",
              "    }\n",
              "</style>\n",
              "<table border=\"1\" class=\"dataframe\">\n",
              "  <thead>\n",
              "    <tr style=\"text-align: right;\">\n",
              "      <th></th>\n",
              "      <th>movie_title</th>\n",
              "      <th>year</th>\n",
              "      <th>score</th>\n",
              "    </tr>\n",
              "  </thead>\n",
              "  <tbody>\n",
              "    <tr>\n",
              "      <th>0</th>\n",
              "      <td>Smallville: Season 1</td>\n",
              "      <td>2001.0</td>\n",
              "      <td>5.000000</td>\n",
              "    </tr>\n",
              "    <tr>\n",
              "      <th>1</th>\n",
              "      <td>Gilmore Girls: Season 3</td>\n",
              "      <td>2002.0</td>\n",
              "      <td>5.000000</td>\n",
              "    </tr>\n",
              "    <tr>\n",
              "      <th>2</th>\n",
              "      <td>Lost: Season 1</td>\n",
              "      <td>2004.0</td>\n",
              "      <td>4.938108</td>\n",
              "    </tr>\n",
              "    <tr>\n",
              "      <th>3</th>\n",
              "      <td>Stargate SG-1: Season 2</td>\n",
              "      <td>1998.0</td>\n",
              "      <td>4.927463</td>\n",
              "    </tr>\n",
              "    <tr>\n",
              "      <th>4</th>\n",
              "      <td>Angel: Season 4</td>\n",
              "      <td>2002.0</td>\n",
              "      <td>4.909250</td>\n",
              "    </tr>\n",
              "    <tr>\n",
              "      <th>5</th>\n",
              "      <td>Stargate SG-1: Season 3</td>\n",
              "      <td>1999.0</td>\n",
              "      <td>4.881772</td>\n",
              "    </tr>\n",
              "    <tr>\n",
              "      <th>6</th>\n",
              "      <td>Alias: Season 1</td>\n",
              "      <td>2001.0</td>\n",
              "      <td>4.864978</td>\n",
              "    </tr>\n",
              "    <tr>\n",
              "      <th>7</th>\n",
              "      <td>Star Trek: The Next Generation: Season 5</td>\n",
              "      <td>1991.0</td>\n",
              "      <td>4.859146</td>\n",
              "    </tr>\n",
              "    <tr>\n",
              "      <th>8</th>\n",
              "      <td>Gilmore Girls: Season 1</td>\n",
              "      <td>2000.0</td>\n",
              "      <td>4.851930</td>\n",
              "    </tr>\n",
              "    <tr>\n",
              "      <th>9</th>\n",
              "      <td>Firefly</td>\n",
              "      <td>2002.0</td>\n",
              "      <td>4.838316</td>\n",
              "    </tr>\n",
              "  </tbody>\n",
              "</table>\n",
              "</div>"
            ],
            "text/plain": [
              "                                movie_title    year     score\n",
              "0                      Smallville: Season 1  2001.0  5.000000\n",
              "1                   Gilmore Girls: Season 3  2002.0  5.000000\n",
              "2                            Lost: Season 1  2004.0  4.938108\n",
              "3                   Stargate SG-1: Season 2  1998.0  4.927463\n",
              "4                           Angel: Season 4  2002.0  4.909250\n",
              "5                   Stargate SG-1: Season 3  1999.0  4.881772\n",
              "6                           Alias: Season 1  2001.0  4.864978\n",
              "7  Star Trek: The Next Generation: Season 5  1991.0  4.859146\n",
              "8                   Gilmore Girls: Season 1  2000.0  4.851930\n",
              "9                                   Firefly  2002.0  4.838316"
            ]
          },
          "metadata": {
            "tags": []
          }
        }
      ]
    },
    {
      "cell_type": "code",
      "metadata": {
        "id": "Pn976ocKxaSO"
      },
      "source": [
        ""
      ],
      "execution_count": null,
      "outputs": []
    }
  ]
}