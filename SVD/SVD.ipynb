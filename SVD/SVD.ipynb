{
  "nbformat": 4,
  "nbformat_minor": 0,
  "metadata": {
    "colab": {
      "name": "SVD.ipynb",
      "provenance": [],
      "authorship_tag": "ABX9TyP+xGy1JJd0QsZpYWFlyzpm",
      "include_colab_link": true
    },
    "kernelspec": {
      "name": "python3",
      "display_name": "Python 3"
    }
  },
  "cells": [
    {
      "cell_type": "markdown",
      "metadata": {
        "id": "view-in-github",
        "colab_type": "text"
      },
      "source": [
        "<a href=\"https://colab.research.google.com/github/davidguzmanr/Datos-Masivos-II/blob/main/SVD/SVD.ipynb\" target=\"_parent\"><img src=\"https://colab.research.google.com/assets/colab-badge.svg\" alt=\"Open In Colab\"/></a>"
      ]
    },
    {
      "cell_type": "markdown",
      "metadata": {
        "id": "_vK9cKb4hx_7"
      },
      "source": [
        "# Mini-proyecto: Modelado de tópicos con SVD\n",
        "\n",
        "El objetivo de este mini-proyecto es identificar los tópicos a partir de un conjunto de comentarios usando el método de SVD.\n",
        "\n",
        "- La base de datos a usar es: https://www.kaggle.com/datafiniti/consumer-reviews-of-amazon-products\n",
        "- El archivo a usar es: Datafiniti_Amazon_Consumer_Reviews_of_Amazon_Products_May19\n",
        "- La columna a usar es: reviews.text"
      ]
    },
    {
      "cell_type": "markdown",
      "metadata": {
        "id": "Cg1x0l-koHp3"
      },
      "source": [
        "## Datos\n",
        "\n",
        "Primero descargamos los datos, por facilidad usamos la API de Kaggle:"
      ]
    },
    {
      "cell_type": "code",
      "metadata": {
        "id": "lue-0CbslSAv"
      },
      "source": [
        "import os, json, nbformat, pandas as pd\n",
        "\n",
        "USER_ID = 'davidguzman'                          # REPLACE WITH YOUR OWN USER NAME\n",
        "USER_SECRET = '7a61331a4dc397bbe9da6c0130e5ab75' # REPLACE WITH YOUR OWN PRIVATE API TOKEN\n",
        "\n",
        "KAGGLE_CONFIG_DIR = os.path.join(os.path.expandvars('$HOME'), '.kaggle')\n",
        "os.makedirs(KAGGLE_CONFIG_DIR, exist_ok = True)\n",
        "\n",
        "with open(os.path.join(KAGGLE_CONFIG_DIR, 'kaggle.json'), 'w') as f:\n",
        "    json.dump({'username': USER_ID, 'key': USER_SECRET}, f)\n",
        "    \n",
        "!chmod 600 {KAGGLE_CONFIG_DIR}/kaggle.json"
      ],
      "execution_count": 1,
      "outputs": []
    },
    {
      "cell_type": "code",
      "metadata": {
        "id": "fF9c0j5Djb2s",
        "outputId": "7e44e978-39fa-4281-8ecc-949a8026a66a",
        "colab": {
          "base_uri": "https://localhost:8080/",
          "height": 143
        }
      },
      "source": [
        "!kaggle datasets download -d datafiniti/consumer-reviews-of-amazon-products\n",
        "!unzip consumer-reviews-of-amazon-products.zip"
      ],
      "execution_count": 2,
      "outputs": [
        {
          "output_type": "stream",
          "text": [
            "Downloading consumer-reviews-of-amazon-products.zip to /content\n",
            " 68% 11.0M/16.3M [00:00<00:00, 111MB/s]\n",
            "100% 16.3M/16.3M [00:00<00:00, 104MB/s]\n",
            "Archive:  consumer-reviews-of-amazon-products.zip\n",
            "  inflating: 1429_1.csv              \n",
            "  inflating: Datafiniti_Amazon_Consumer_Reviews_of_Amazon_Products.csv  \n",
            "  inflating: Datafiniti_Amazon_Consumer_Reviews_of_Amazon_Products_May19.csv  \n"
          ],
          "name": "stdout"
        }
      ]
    },
    {
      "cell_type": "markdown",
      "metadata": {
        "id": "OQNG7C_aqQ9R"
      },
      "source": [
        "## Pre-procesamiento"
      ]
    },
    {
      "cell_type": "code",
      "metadata": {
        "id": "gOUvRPRDo8wC",
        "outputId": "5c2f01d3-79f6-4b30-fd71-90e19a4411ee",
        "colab": {
          "base_uri": "https://localhost:8080/",
          "height": 89
        }
      },
      "source": [
        "import numpy as np\n",
        "import pandas as pd\n",
        "pd.options.mode.chained_assignment = None  # para quitar un warning molesto\n",
        "import matplotlib.pyplot as plt\n",
        "\n",
        "import re\n",
        "import string\n",
        "\n",
        "import nltk\n",
        "from nltk.tokenize import TweetTokenizer\n",
        "from nltk import word_tokenize\n",
        "nltk.download('punkt')\n",
        "from nltk.corpus import stopwords\n",
        "nltk.download('stopwords')\n",
        "stop_words = stopwords.words('english')"
      ],
      "execution_count": 3,
      "outputs": [
        {
          "output_type": "stream",
          "text": [
            "[nltk_data] Downloading package punkt to /root/nltk_data...\n",
            "[nltk_data]   Package punkt is already up-to-date!\n",
            "[nltk_data] Downloading package stopwords to /root/nltk_data...\n",
            "[nltk_data]   Package stopwords is already up-to-date!\n"
          ],
          "name": "stdout"
        }
      ]
    },
    {
      "cell_type": "code",
      "metadata": {
        "id": "bpwXLYH5B35m"
      },
      "source": [
        "data = pd.read_csv('/content/Datafiniti_Amazon_Consumer_Reviews_of_Amazon_Products_May19.csv')\n",
        "reviews = data[['reviews.text']]"
      ],
      "execution_count": 4,
      "outputs": []
    },
    {
      "cell_type": "code",
      "metadata": {
        "id": "qeO5PXH0EqBc",
        "outputId": "3059ae05-b0dd-4ed5-97eb-b7ad05969ab9",
        "colab": {
          "base_uri": "https://localhost:8080/",
          "height": 575
        }
      },
      "source": [
        "data.info()"
      ],
      "execution_count": 5,
      "outputs": [
        {
          "output_type": "stream",
          "text": [
            "<class 'pandas.core.frame.DataFrame'>\n",
            "RangeIndex: 28332 entries, 0 to 28331\n",
            "Data columns (total 24 columns):\n",
            " #   Column               Non-Null Count  Dtype  \n",
            "---  ------               --------------  -----  \n",
            " 0   id                   28332 non-null  object \n",
            " 1   dateAdded            28332 non-null  object \n",
            " 2   dateUpdated          28332 non-null  object \n",
            " 3   name                 28332 non-null  object \n",
            " 4   asins                28332 non-null  object \n",
            " 5   brand                28332 non-null  object \n",
            " 6   categories           28332 non-null  object \n",
            " 7   primaryCategories    28332 non-null  object \n",
            " 8   imageURLs            28332 non-null  object \n",
            " 9   keys                 28332 non-null  object \n",
            " 10  manufacturer         28332 non-null  object \n",
            " 11  manufacturerNumber   28332 non-null  object \n",
            " 12  reviews.date         28332 non-null  object \n",
            " 13  reviews.dateSeen     28332 non-null  object \n",
            " 14  reviews.didPurchase  9 non-null      object \n",
            " 15  reviews.doRecommend  16086 non-null  object \n",
            " 16  reviews.id           41 non-null     float64\n",
            " 17  reviews.numHelpful   16115 non-null  float64\n",
            " 18  reviews.rating       28332 non-null  int64  \n",
            " 19  reviews.sourceURLs   28332 non-null  object \n",
            " 20  reviews.text         28332 non-null  object \n",
            " 21  reviews.title        28332 non-null  object \n",
            " 22  reviews.username     28332 non-null  object \n",
            " 23  sourceURLs           28332 non-null  object \n",
            "dtypes: float64(2), int64(1), object(21)\n",
            "memory usage: 5.2+ MB\n"
          ],
          "name": "stdout"
        }
      ]
    },
    {
      "cell_type": "markdown",
      "metadata": {
        "id": "s_VwNtYpIErx"
      },
      "source": [
        "Los datos contienen una lista de 28,332 reseñas de consumidores para productos de Amazon como Kindle, tabletas, baterias y más (el esquema de datos se encuentra en [Data Schema](https://developer.datafiniti.co/docs/product-data-schema))."
      ]
    },
    {
      "cell_type": "code",
      "metadata": {
        "id": "eKtxi0nRIDLo",
        "outputId": "ffcd561a-299a-4360-a573-e49b291cbb68",
        "colab": {
          "base_uri": "https://localhost:8080/",
          "height": 215
        }
      },
      "source": [
        "data['name'].value_counts()[0:10]"
      ],
      "execution_count": 6,
      "outputs": [
        {
          "output_type": "execute_result",
          "data": {
            "text/plain": [
              "AmazonBasics AAA Performance Alkaline Batteries (36 Count)                                     8343\n",
              "AmazonBasics AA Performance Alkaline Batteries (48 Count) - Packaging May Vary                 3728\n",
              "Fire HD 8 Tablet with Alexa, 8 HD Display, 16 GB, Tangerine - with Special Offers              2443\n",
              "All-New Fire HD 8 Tablet, 8 HD Display, Wi-Fi, 16 GB - Includes Special Offers, Black          2370\n",
              "Fire Kids Edition Tablet, 7 Display, Wi-Fi, 16 GB, Pink Kid-Proof Case                         1676\n",
              "Fire Kids Edition Tablet, 7 Display, Wi-Fi, 16 GB, Blue Kid-Proof Case                         1425\n",
              "Fire Kids Edition Tablet, 7 Display, Wi-Fi, 16 GB, Green Kid-Proof Case                        1212\n",
              "Fire Tablet, 7 Display, Wi-Fi, 16 GB - Includes Special Offers, Black                          1024\n",
              "Fire Tablet with Alexa, 7 Display, 16 GB, Blue - with Special Offers                            987\n",
              "All-New Fire HD 8 Tablet with Alexa, 8 HD Display, 16 GB, Marine Blue - with Special Offers     883\n",
              "Name: name, dtype: int64"
            ]
          },
          "metadata": {
            "tags": []
          },
          "execution_count": 6
        }
      ]
    },
    {
      "cell_type": "markdown",
      "metadata": {
        "id": "nneQaeFVGoVT"
      },
      "source": [
        "Algo importante a notar es que la mayor parte de las reseñas son positivas y recomiendan el producto que están reseñando."
      ]
    },
    {
      "cell_type": "code",
      "metadata": {
        "id": "4EqUHO7SM89E",
        "outputId": "d6e5cf6d-45f9-45dc-ca19-ad4273639538",
        "colab": {
          "base_uri": "https://localhost:8080/",
          "height": 215
        }
      },
      "source": [
        "print(100*data['reviews.rating'].value_counts(dropna=False)/28332)\n",
        "print()\n",
        "print(100*data['reviews.doRecommend'].value_counts(dropna=False)/28332)"
      ],
      "execution_count": 7,
      "outputs": [
        {
          "output_type": "stream",
          "text": [
            "5    70.228011\n",
            "4    19.935056\n",
            "3     4.256671\n",
            "1     3.406043\n",
            "2     2.174220\n",
            "Name: reviews.rating, dtype: float64\n",
            "\n",
            "True     54.189609\n",
            "NaN      43.223211\n",
            "False     2.587181\n",
            "Name: reviews.doRecommend, dtype: float64\n"
          ],
          "name": "stdout"
        }
      ]
    },
    {
      "cell_type": "code",
      "metadata": {
        "id": "tuEE5tBU-PV7"
      },
      "source": [
        "reviews['reviews.text'] = reviews['reviews.text'].apply(lambda x:word_tokenize(x.lower()))                                 # pasamos a minúscula y tokenizamos\n",
        "reviews['reviews.text'] = reviews['reviews.text'].apply(lambda x:[item for item in x if item not in stop_words])           # quitamos stop_words\n",
        "reviews['reviews.text'] = reviews['reviews.text'].apply(lambda x:[item for item in x if item not in string.punctuation])   # quitamos signos de puntuación\n",
        "reviews['reviews.text'] = reviews['reviews.text'].apply(lambda x:' '.join(x))                                              # volvemos a juntar en una oración"
      ],
      "execution_count": 8,
      "outputs": []
    },
    {
      "cell_type": "markdown",
      "metadata": {
        "id": "9dr5UBa3KLAu"
      },
      "source": [
        "Ahora veamos alguna reseña y cómo se ve una vez procesada:"
      ]
    },
    {
      "cell_type": "code",
      "metadata": {
        "id": "Uz64EU7WFtv-",
        "outputId": "1d9a1fa8-e9fa-4936-c2c1-caed947bf3e1",
        "colab": {
          "base_uri": "https://localhost:8080/",
          "height": 53
        }
      },
      "source": [
        "print('\\033[1m Original: ' + '\\033[94m' + data['reviews.text'][2] + '\\033[0m')\n",
        "print('\\033[1m Procesado: ' + '\\033[95m' + reviews['reviews.text'][2])"
      ],
      "execution_count": 9,
      "outputs": [
        {
          "output_type": "stream",
          "text": [
            "\u001b[1m Original: \u001b[94mWell they are not Duracell but for the price i am happy.\u001b[0m\n",
            "\u001b[1m Procesado: \u001b[95mwell duracell price happy\n"
          ],
          "name": "stdout"
        }
      ]
    },
    {
      "cell_type": "markdown",
      "metadata": {
        "id": "ks_BtfadLhtp"
      },
      "source": [
        "## SVD\n",
        "\n",
        "Ahora tratemos de encontrar los tópicos y separemos estos tópicos en $n$ grupos."
      ]
    },
    {
      "cell_type": "code",
      "metadata": {
        "id": "w3ishExW0sSh",
        "outputId": "80d038e6-5e81-437f-c115-11a62767046f",
        "colab": {
          "base_uri": "https://localhost:8080/",
          "height": 35
        }
      },
      "source": [
        "# Creamos una matriz de reseñas y términos usando TfidfVectorizer\n",
        "from sklearn.feature_extraction.text import TfidfVectorizer\n",
        "\n",
        "vectorizer = TfidfVectorizer(stop_words = 'english', \n",
        "                             analyzer = 'word',\n",
        "                             max_features = 1000,       # máximo número de términos\n",
        "                             max_df = 0.5, \n",
        "                             smooth_idf = True)\n",
        "\n",
        "X = vectorizer.fit_transform(reviews['reviews.text'])\n",
        "X.shape"
      ],
      "execution_count": 10,
      "outputs": [
        {
          "output_type": "execute_result",
          "data": {
            "text/plain": [
              "(28332, 1000)"
            ]
          },
          "metadata": {
            "tags": []
          },
          "execution_count": 10
        }
      ]
    },
    {
      "cell_type": "code",
      "metadata": {
        "id": "E8r93R5VMYNb",
        "outputId": "b297baf9-0f4c-4749-c28a-cd11a1cff7b8",
        "colab": {
          "base_uri": "https://localhost:8080/",
          "height": 53
        }
      },
      "source": [
        "# Calculamos la descomposición de valores singulares de la matriz, usando la función TruncatedSVD\n",
        "from sklearn.decomposition import TruncatedSVD\n",
        "\n",
        "svd_model = TruncatedSVD(n_components = 5,\n",
        "                         algorithm = 'randomized', \n",
        "                         n_iter = 100, \n",
        "                         random_state = 42)\n",
        "svd_model.fit(X)"
      ],
      "execution_count": 11,
      "outputs": [
        {
          "output_type": "execute_result",
          "data": {
            "text/plain": [
              "TruncatedSVD(algorithm='randomized', n_components=5, n_iter=100,\n",
              "             random_state=42, tol=0.0)"
            ]
          },
          "metadata": {
            "tags": []
          },
          "execution_count": 11
        }
      ]
    },
    {
      "cell_type": "code",
      "metadata": {
        "id": "k7TpxliCNV30",
        "outputId": "2f25c22b-f37d-49f9-9ecc-234d98a4a814",
        "colab": {
          "base_uri": "https://localhost:8080/",
          "height": 1000
        }
      },
      "source": [
        "# Los componentes del modelo, serán los tópicos de los documentos\n",
        "terms = vectorizer.get_feature_names()\n",
        "\n",
        "# Visualizamos algunas de las plabras más importantes en cada uno de los 5 tópicos\n",
        "for i, comp in enumerate(svd_model.components_):\n",
        "    \n",
        "    terms_comp = zip(terms, comp)\n",
        "    sorted_terms = sorted(terms_comp, key= lambda x:x[1], reverse=True)[0:10]\n",
        "    print(\"\\033[1mTopic \" + str(i+1) + \": \\033[0m\")\n",
        "    \n",
        "    for t in sorted_terms:\n",
        "        print(t[0])\n",
        "        \n",
        "    print('\\n')"
      ],
      "execution_count": 12,
      "outputs": [
        {
          "output_type": "stream",
          "text": [
            "\u001b[1mTopic 1: \u001b[0m\n",
            "great\n",
            "batteries\n",
            "good\n",
            "price\n",
            "work\n",
            "tablet\n",
            "product\n",
            "long\n",
            "value\n",
            "use\n",
            "\n",
            "\n",
            "\u001b[1mTopic 2: \u001b[0m\n",
            "good\n",
            "batteries\n",
            "far\n",
            "brand\n",
            "long\n",
            "quality\n",
            "brands\n",
            "duracell\n",
            "cheap\n",
            "say\n",
            "\n",
            "\n",
            "\u001b[1mTopic 3: \u001b[0m\n",
            "batteries\n",
            "work\n",
            "great\n",
            "long\n",
            "brand\n",
            "price\n",
            "brands\n",
            "lasting\n",
            "aa\n",
            "duracell\n",
            "\n",
            "\n",
            "\u001b[1mTopic 4: \u001b[0m\n",
            "great\n",
            "good\n",
            "price\n",
            "value\n",
            "product\n",
            "deal\n",
            "works\n",
            "quality\n",
            "shipping\n",
            "item\n",
            "\n",
            "\n",
            "\u001b[1mTopic 5: \u001b[0m\n",
            "work\n",
            "value\n",
            "good\n",
            "fine\n",
            "great\n",
            "expected\n",
            "far\n",
            "like\n",
            "deal\n",
            "cheaper\n",
            "\n",
            "\n"
          ],
          "name": "stdout"
        }
      ]
    },
    {
      "cell_type": "markdown",
      "metadata": {
        "id": "ItpdmCi0Qx0_"
      },
      "source": [
        "Los tópicos parecen corresponder a los artículos más vendidos, los cuales son los más representativos."
      ]
    },
    {
      "cell_type": "code",
      "metadata": {
        "id": "2rpXuWgvQVZK",
        "outputId": "3226efe4-1d61-43ab-84af-7672a9c8b4ff",
        "colab": {
          "base_uri": "https://localhost:8080/",
          "height": 125
        }
      },
      "source": [
        "data['name'].value_counts()[0:5]"
      ],
      "execution_count": 13,
      "outputs": [
        {
          "output_type": "execute_result",
          "data": {
            "text/plain": [
              "AmazonBasics AAA Performance Alkaline Batteries (36 Count)                               8343\n",
              "AmazonBasics AA Performance Alkaline Batteries (48 Count) - Packaging May Vary           3728\n",
              "Fire HD 8 Tablet with Alexa, 8 HD Display, 16 GB, Tangerine - with Special Offers        2443\n",
              "All-New Fire HD 8 Tablet, 8 HD Display, Wi-Fi, 16 GB - Includes Special Offers, Black    2370\n",
              "Fire Kids Edition Tablet, 7 Display, Wi-Fi, 16 GB, Pink Kid-Proof Case                   1676\n",
              "Name: name, dtype: int64"
            ]
          },
          "metadata": {
            "tags": []
          },
          "execution_count": 13
        }
      ]
    },
    {
      "cell_type": "code",
      "metadata": {
        "id": "SVRfp2Qg_bS3"
      },
      "source": [
        ""
      ],
      "execution_count": 13,
      "outputs": []
    }
  ]
}